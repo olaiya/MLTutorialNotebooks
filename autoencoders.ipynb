{
 "cells": [
  {
   "cell_type": "markdown",
   "id": "f7df5123",
   "metadata": {},
   "source": [
    "# <center> Autoencoders </center>"
   ]
  },
  {
   "cell_type": "markdown",
   "id": "675619cd",
   "metadata": {},
   "source": [
    "[![Open In Colab](https://colab.research.google.com/assets/colab-badge.svg)](https://colab.research.google.com/github/olaiya/MLTutorialNotebooks/blob/master/autoencoders.ipynb)"
   ]
  },
  {
   "cell_type": "markdown",
   "id": "d151077c",
   "metadata": {},
   "source": [
    "# Contents\n",
    "\n",
    "- [0. Autoencoders](#0.) \n",
    "- [1. Setup](#1.)   \n",
    "- [2. Implementing a Stacked Autoencoder Using Keras](#2.)\n",
    "    - [2.1 Visualizing the Reconstructions](#2.1)\n",
    "- [3. Denoising Autoencoders](#3.)"
   ]
  },
  {
   "cell_type": "markdown",
   "id": "3fd363d9",
   "metadata": {},
   "source": [
    "## 0. Autoencoders <a name=\"0.\"></a>\n",
    "\n",
    "<img src=\"images/ae.png\" alt=\"autoencoder\">"
   ]
  },
  {
   "cell_type": "markdown",
   "id": "f6d9e50f",
   "metadata": {},
   "source": [
    "An autoencoder is a type of artificial neural network used to learn efficient codings of unlabeled data (unsupervised learning). An autoencoder learns two functions: an encoding function that transforms the input data, and a decoding function that recreates the input data from the encoded representation."
   ]
  },
  {
   "cell_type": "markdown",
   "id": "f1825b66",
   "metadata": {},
   "source": [
    "## 1. Setup <a name=\"1.\"></a>"
   ]
  },
  {
   "cell_type": "code",
   "execution_count": 18,
   "id": "e12bdfc3",
   "metadata": {},
   "outputs": [],
   "source": [
    "import sys\n",
    "import sklearn\n",
    "import tensorflow as tf\n",
    "import matplotlib.pyplot as plt\n",
    "import numpy as np\n",
    "\n"
   ]
  },
  {
   "cell_type": "markdown",
   "id": "7dd2baa7",
   "metadata": {},
   "source": [
    "Let's define the default font size:"
   ]
  },
  {
   "cell_type": "code",
   "execution_count": 2,
   "id": "b2c8da76",
   "metadata": {},
   "outputs": [],
   "source": [
    "plt.rc('font', size=14)\n",
    "plt.rc('axes', labelsize=14, titlesize=14)\n",
    "plt.rc('legend', fontsize=14)\n",
    "plt.rc('xtick', labelsize=10)\n",
    "plt.rc('ytick', labelsize=10)"
   ]
  },
  {
   "cell_type": "markdown",
   "id": "f3e4bd9e",
   "metadata": {},
   "source": [
    "Let's create the images/generative folder (if it doesn't already exist), and define the save_fig() function to save the figures in high-res for the book:"
   ]
  },
  {
   "cell_type": "code",
   "execution_count": 3,
   "id": "4a8fb59e",
   "metadata": {},
   "outputs": [],
   "source": [
    "from pathlib import Path\n",
    "\n",
    "IMAGES_PATH = Path() / \"images\" / \"generative\"\n",
    "IMAGES_PATH.mkdir(parents=True, exist_ok=True)\n",
    "\n",
    "def save_fig(fig_id, tight_layout=True, fig_extension=\"png\", resolution=300):\n",
    "    path = IMAGES_PATH / f\"{fig_id}.{fig_extension}\"\n",
    "    if tight_layout:\n",
    "        plt.tight_layout()\n",
    "    plt.savefig(path, format=fig_extension, dpi=resolution)\n"
   ]
  },
  {
   "cell_type": "markdown",
   "id": "ad154c76",
   "metadata": {},
   "source": [
    "## 2. Implementing a Stacked Autoencoder Using Keras <a name=\"2.\"></a>\n",
    "\n",
    "Let's load the fashion MNIST dataset, scale it, and split it into a training set, a validation set, and a test set:"
   ]
  },
  {
   "cell_type": "code",
   "execution_count": 6,
   "id": "ab942403",
   "metadata": {},
   "outputs": [],
   "source": [
    "# extra code – loads, scales, and splits the fashion MNIST dataset\n",
    "fashion_mnist = tf.keras.datasets.fashion_mnist.load_data()\n",
    "(X_train_full, y_train_full), (X_test, y_test) = fashion_mnist\n",
    "X_train_full = X_train_full.astype(np.float32) / 255\n",
    "X_test = X_test.astype(np.float32) / 255\n",
    "X_train, X_valid = X_train_full[:-5000], X_train_full[-5000:]\n",
    "y_train, y_valid = y_train_full[:-5000], y_train_full[-5000:]"
   ]
  },
  {
   "cell_type": "markdown",
   "id": "4adb3fed",
   "metadata": {},
   "source": [
    "Let's build and train a stacked Autoencoder with 3 hidden layers and 1 output layer (i.e., 2 stacked Autoencoders)."
   ]
  },
  {
   "cell_type": "code",
   "execution_count": 11,
   "id": "4eb42222",
   "metadata": {},
   "outputs": [
    {
     "name": "stdout",
     "output_type": "stream",
     "text": [
      "Epoch 1/20\n",
      "1719/1719 [==============================] - 3s 1ms/step - loss: 0.0241 - val_loss: 0.0188\n",
      "Epoch 2/20\n",
      "1719/1719 [==============================] - 2s 1ms/step - loss: 0.0173 - val_loss: 0.0167\n",
      "Epoch 3/20\n",
      "1719/1719 [==============================] - 2s 1ms/step - loss: 0.0160 - val_loss: 0.0162\n",
      "Epoch 4/20\n",
      "1719/1719 [==============================] - 2s 1ms/step - loss: 0.0153 - val_loss: 0.0152\n",
      "Epoch 5/20\n",
      "1719/1719 [==============================] - 2s 1ms/step - loss: 0.0148 - val_loss: 0.0147\n",
      "Epoch 6/20\n",
      "1719/1719 [==============================] - 2s 1ms/step - loss: 0.0145 - val_loss: 0.0145\n",
      "Epoch 7/20\n",
      "1719/1719 [==============================] - 2s 1ms/step - loss: 0.0142 - val_loss: 0.0144\n",
      "Epoch 8/20\n",
      "1719/1719 [==============================] - 2s 1ms/step - loss: 0.0140 - val_loss: 0.0143\n",
      "Epoch 9/20\n",
      "1719/1719 [==============================] - 2s 1ms/step - loss: 0.0139 - val_loss: 0.0143\n",
      "Epoch 10/20\n",
      "1719/1719 [==============================] - 2s 1ms/step - loss: 0.0138 - val_loss: 0.0140\n",
      "Epoch 11/20\n",
      "1719/1719 [==============================] - 2s 1ms/step - loss: 0.0137 - val_loss: 0.0138\n",
      "Epoch 12/20\n",
      "1719/1719 [==============================] - 2s 1ms/step - loss: 0.0136 - val_loss: 0.0137\n",
      "Epoch 13/20\n",
      "1719/1719 [==============================] - 2s 1ms/step - loss: 0.0135 - val_loss: 0.0136\n",
      "Epoch 14/20\n",
      "1719/1719 [==============================] - 2s 1ms/step - loss: 0.0134 - val_loss: 0.0136\n",
      "Epoch 15/20\n",
      "1719/1719 [==============================] - 2s 1ms/step - loss: 0.0134 - val_loss: 0.0135\n",
      "Epoch 16/20\n",
      "1719/1719 [==============================] - 2s 1ms/step - loss: 0.0133 - val_loss: 0.0135\n",
      "Epoch 17/20\n",
      "1719/1719 [==============================] - 2s 1ms/step - loss: 0.0133 - val_loss: 0.0134\n",
      "Epoch 18/20\n",
      "1719/1719 [==============================] - 2s 1ms/step - loss: 0.0132 - val_loss: 0.0134\n",
      "Epoch 19/20\n",
      "1719/1719 [==============================] - 3s 1ms/step - loss: 0.0132 - val_loss: 0.0134\n",
      "Epoch 20/20\n",
      "1719/1719 [==============================] - 2s 1ms/step - loss: 0.0132 - val_loss: 0.0133\n"
     ]
    }
   ],
   "source": [
    "tf.random.set_seed(42)  # extra code – ensures reproducibility on CPU\n",
    "\n",
    "stacked_encoder = tf.keras.Sequential([\n",
    "    tf.keras.layers.Flatten(),\n",
    "    tf.keras.layers.Dense(100, activation=\"relu\"),\n",
    "    tf.keras.layers.Dense(30, activation=\"relu\"),\n",
    "])\n",
    "stacked_decoder = tf.keras.Sequential([\n",
    "    tf.keras.layers.Dense(100, activation=\"relu\"),\n",
    "    tf.keras.layers.Dense(28 * 28),\n",
    "    tf.keras.layers.Reshape([28, 28])\n",
    "])\n",
    "stacked_ae = tf.keras.Sequential([stacked_encoder, stacked_decoder])\n",
    "\n",
    "stacked_ae.compile(loss=\"mse\", optimizer=\"nadam\")     \n",
    "\n",
    "history = stacked_ae.fit(X_train, X_train, epochs=20,\n",
    "                         validation_data=(X_valid, X_valid))"
   ]
  },
  {
   "cell_type": "markdown",
   "id": "ec86bfb2",
   "metadata": {},
   "source": [
    "## Visualizing the Reconstructions <a name=\"2.1\"></a>\n",
    "\n",
    "This function processes a few validation images through the autoencoder and displays the original images and their reconstructions:\n"
   ]
  },
  {
   "cell_type": "code",
   "execution_count": 12,
   "id": "0ed1ea59",
   "metadata": {},
   "outputs": [],
   "source": [
    "def plot_reconstructions(model, images=X_valid, n_images=5):\n",
    "    reconstructions = np.clip(model.predict(images[:n_images]), 0, 1)\n",
    "    fig = plt.figure(figsize=(n_images * 1.5, 3))\n",
    "    for image_index in range(n_images):\n",
    "        plt.subplot(2, n_images, 1 + image_index)\n",
    "        plt.imshow(images[image_index], cmap=\"binary\")\n",
    "        plt.axis(\"off\")\n",
    "        plt.subplot(2, n_images, 1 + n_images + image_index)\n",
    "        plt.imshow(reconstructions[image_index], cmap=\"binary\")\n",
    "        plt.axis(\"off\")\n"
   ]
  },
  {
   "cell_type": "code",
   "execution_count": 13,
   "id": "6cc74f7c",
   "metadata": {},
   "outputs": [
    {
     "data": {
      "image/png": "[encoded data removed]",
      "text/plain": [
       "<Figure size 540x216 with 10 Axes>"
      ]
     },
     "metadata": {
      "needs_background": "light"
     },
     "output_type": "display_data"
    }
   ],
   "source": [
    "plot_reconstructions(stacked_ae)\n",
    "save_fig(\"reconstruction_plot\")  # extra code – saves the high res figure\n",
    "plt.show()"
   ]
  },
  {
   "cell_type": "markdown",
   "id": "7a93f69c",
   "metadata": {},
   "source": [
    "# 3. Denoising Autoencoders <a name=\"3.\"></a>\n",
    "\n",
    "Using dropout to remove information from the input. Then use an autoencoder to learn how to return the lost from the input. Essentially we will simply create an **image noise reduction algorithm** \n"
   ]
  },
  {
   "cell_type": "code",
   "execution_count": 14,
   "id": "40706d61",
   "metadata": {},
   "outputs": [],
   "source": [
    "tf.random.set_seed(42)  #ensures reproducibility on CPU\n",
    "\n",
    "dropout_encoder = tf.keras.Sequential([\n",
    "    tf.keras.layers.Flatten(),\n",
    "    tf.keras.layers.Dropout(0.5), #Drop half the weights at this point, ie. drop half the inputs\n",
    "    tf.keras.layers.Dense(100, activation=\"relu\"),\n",
    "    tf.keras.layers.Dense(30, activation=\"relu\")\n",
    "])\n",
    "dropout_decoder = tf.keras.Sequential([\n",
    "    tf.keras.layers.Dense(100, activation=\"relu\"),\n",
    "    tf.keras.layers.Dense(28 * 28),\n",
    "    tf.keras.layers.Reshape([28, 28])\n",
    "])\n",
    "dropout_ae = tf.keras.Sequential([dropout_encoder, dropout_decoder])"
   ]
  },
  {
   "cell_type": "markdown",
   "id": "2aa592bd",
   "metadata": {},
   "source": [
    "Compile and train the model!"
   ]
  },
  {
   "cell_type": "code",
   "execution_count": 15,
   "id": "e0dfa8b7",
   "metadata": {},
   "outputs": [
    {
     "name": "stdout",
     "output_type": "stream",
     "text": [
      "Epoch 1/10\n",
      "1719/1719 [==============================] - 3s 2ms/step - loss: 0.0290 - val_loss: 0.0220\n",
      "Epoch 2/10\n",
      "1719/1719 [==============================] - 3s 2ms/step - loss: 0.0223 - val_loss: 0.0200\n",
      "Epoch 3/10\n",
      "1719/1719 [==============================] - 3s 2ms/step - loss: 0.0209 - val_loss: 0.0191\n",
      "Epoch 4/10\n",
      "1719/1719 [==============================] - 3s 2ms/step - loss: 0.0202 - val_loss: 0.0186\n",
      "Epoch 5/10\n",
      "1719/1719 [==============================] - 3s 2ms/step - loss: 0.0197 - val_loss: 0.0181\n",
      "Epoch 6/10\n",
      "1719/1719 [==============================] - 3s 2ms/step - loss: 0.0194 - val_loss: 0.0180\n",
      "Epoch 7/10\n",
      "1719/1719 [==============================] - 3s 2ms/step - loss: 0.0191 - val_loss: 0.0176\n",
      "Epoch 8/10\n",
      "1719/1719 [==============================] - 3s 2ms/step - loss: 0.0189 - val_loss: 0.0173\n",
      "Epoch 9/10\n",
      "1719/1719 [==============================] - 3s 1ms/step - loss: 0.0187 - val_loss: 0.0172\n",
      "Epoch 10/10\n",
      "1719/1719 [==============================] - 3s 2ms/step - loss: 0.0186 - val_loss: 0.0169\n"
     ]
    }
   ],
   "source": [
    "dropout_ae.compile(loss=\"mse\", optimizer=\"nadam\")\n",
    "history = dropout_ae.fit(X_train, X_train, epochs=10,\n",
    "                         validation_data=(X_valid, X_valid))"
   ]
  },
  {
   "cell_type": "code",
   "execution_count": 16,
   "id": "f45204cf",
   "metadata": {},
   "outputs": [
    {
     "data": {
      "image/png": "[encoded data removed]",
      "text/plain": [
       "<Figure size 540x216 with 10 Axes>"
      ]
     },
     "metadata": {
      "needs_background": "light"
     },
     "output_type": "display_data"
    }
   ],
   "source": [
    "tf.random.set_seed(42)\n",
    "dropout = tf.keras.layers.Dropout(0.5) #drop half the weights randomly, seed above make the results reproduceable\n",
    "plot_reconstructions(dropout_ae, dropout(X_valid, training=True)) # pass model and input x dropout\n",
    "save_fig(\"dropout_denoising_plot\")\n",
    "plt.show()"
   ]
  },
  {
   "cell_type": "markdown",
   "id": "7cf600ba",
   "metadata": {},
   "source": [
    "Brilliant! Autoencode enables us to restore noisy image!"
   ]
  }
 ],
 "metadata": {
  "kernelspec": {
   "display_name": "Python 3 (ipykernel)",
   "language": "python",
   "name": "python3"
  },
  "language_info": {
   "codemirror_mode": {
    "name": "ipython",
    "version": 3
   },
   "file_extension": ".py",
   "mimetype": "text/x-python",
   "name": "python",
   "nbconvert_exporter": "python",
   "pygments_lexer": "ipython3",
   "version": "3.10.0"
  }
 },
 "nbformat": 4,
 "nbformat_minor": 5
}
